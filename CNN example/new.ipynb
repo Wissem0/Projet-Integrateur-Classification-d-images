{
 "cells": [
  {
   "cell_type": "code",
   "execution_count": 1,
   "metadata": {},
   "outputs": [
    {
     "name": "stderr",
     "output_type": "stream",
     "text": [
      "<frozen importlib._bootstrap>:219: RuntimeWarning: numpy.ufunc size changed, may indicate binary incompatibility. Expected 216 from C header, got 232 from PyObject\n",
      "<frozen importlib._bootstrap>:219: RuntimeWarning: numpy.ndarray size changed, may indicate binary incompatibility. Expected 80 from C header, got 96 from PyObject\n",
      "<frozen importlib._bootstrap>:219: RuntimeWarning: numpy.ufunc size changed, may indicate binary incompatibility. Expected 192 from C header, got 232 from PyObject\n"
     ]
    }
   ],
   "source": [
    "# Importing the libraries\n",
    "import pandas as pd\n",
    "import tensorflow as tf\n",
    "import numpy as np\n",
    "import matplotlib.pyplot as plt\n",
    "from tensorflow.keras.models import Model\n",
    "from tensorflow.keras.layers import Dense, Input\n",
    "from sklearn.model_selection import train_test_split\n",
    "\n",
    "# Importing the Boston Housing dataset\n",
    "from sklearn.datasets import load_boston"
   ]
  },
  {
   "cell_type": "code",
   "execution_count": 2,
   "metadata": {},
   "outputs": [],
   "source": [
    "# Loading the Boston Housing dataset\n",
    "boston = load_boston()"
   ]
  },
  {
   "cell_type": "code",
   "execution_count": 3,
   "metadata": {},
   "outputs": [],
   "source": [
    "# Initializing the dataframe\n",
    "data = pd.DataFrame(boston.data)"
   ]
  },
  {
   "cell_type": "code",
   "execution_count": 4,
   "metadata": {},
   "outputs": [],
   "source": [
    "#Adding the feature names to the dataframe\n",
    "data.columns = boston.feature_names"
   ]
  },
  {
   "cell_type": "code",
   "execution_count": 5,
   "metadata": {},
   "outputs": [
    {
     "data": {
      "text/html": [
       "<div>\n",
       "<style scoped>\n",
       "    .dataframe tbody tr th:only-of-type {\n",
       "        vertical-align: middle;\n",
       "    }\n",
       "\n",
       "    .dataframe tbody tr th {\n",
       "        vertical-align: top;\n",
       "    }\n",
       "\n",
       "    .dataframe thead th {\n",
       "        text-align: right;\n",
       "    }\n",
       "</style>\n",
       "<table border=\"1\" class=\"dataframe\">\n",
       "  <thead>\n",
       "    <tr style=\"text-align: right;\">\n",
       "      <th></th>\n",
       "      <th>CRIM</th>\n",
       "      <th>ZN</th>\n",
       "      <th>INDUS</th>\n",
       "      <th>CHAS</th>\n",
       "      <th>NOX</th>\n",
       "      <th>RM</th>\n",
       "      <th>AGE</th>\n",
       "      <th>DIS</th>\n",
       "      <th>RAD</th>\n",
       "      <th>TAX</th>\n",
       "      <th>PTRATIO</th>\n",
       "      <th>B</th>\n",
       "      <th>LSTAT</th>\n",
       "      <th>PRICE</th>\n",
       "    </tr>\n",
       "  </thead>\n",
       "  <tbody>\n",
       "    <tr>\n",
       "      <th>0</th>\n",
       "      <td>0.00632</td>\n",
       "      <td>18.0</td>\n",
       "      <td>2.31</td>\n",
       "      <td>0.0</td>\n",
       "      <td>0.538</td>\n",
       "      <td>6.575</td>\n",
       "      <td>65.2</td>\n",
       "      <td>4.0900</td>\n",
       "      <td>1.0</td>\n",
       "      <td>296.0</td>\n",
       "      <td>15.3</td>\n",
       "      <td>396.90</td>\n",
       "      <td>4.98</td>\n",
       "      <td>24.0</td>\n",
       "    </tr>\n",
       "    <tr>\n",
       "      <th>1</th>\n",
       "      <td>0.02731</td>\n",
       "      <td>0.0</td>\n",
       "      <td>7.07</td>\n",
       "      <td>0.0</td>\n",
       "      <td>0.469</td>\n",
       "      <td>6.421</td>\n",
       "      <td>78.9</td>\n",
       "      <td>4.9671</td>\n",
       "      <td>2.0</td>\n",
       "      <td>242.0</td>\n",
       "      <td>17.8</td>\n",
       "      <td>396.90</td>\n",
       "      <td>9.14</td>\n",
       "      <td>21.6</td>\n",
       "    </tr>\n",
       "    <tr>\n",
       "      <th>2</th>\n",
       "      <td>0.02729</td>\n",
       "      <td>0.0</td>\n",
       "      <td>7.07</td>\n",
       "      <td>0.0</td>\n",
       "      <td>0.469</td>\n",
       "      <td>7.185</td>\n",
       "      <td>61.1</td>\n",
       "      <td>4.9671</td>\n",
       "      <td>2.0</td>\n",
       "      <td>242.0</td>\n",
       "      <td>17.8</td>\n",
       "      <td>392.83</td>\n",
       "      <td>4.03</td>\n",
       "      <td>34.7</td>\n",
       "    </tr>\n",
       "    <tr>\n",
       "      <th>3</th>\n",
       "      <td>0.03237</td>\n",
       "      <td>0.0</td>\n",
       "      <td>2.18</td>\n",
       "      <td>0.0</td>\n",
       "      <td>0.458</td>\n",
       "      <td>6.998</td>\n",
       "      <td>45.8</td>\n",
       "      <td>6.0622</td>\n",
       "      <td>3.0</td>\n",
       "      <td>222.0</td>\n",
       "      <td>18.7</td>\n",
       "      <td>394.63</td>\n",
       "      <td>2.94</td>\n",
       "      <td>33.4</td>\n",
       "    </tr>\n",
       "    <tr>\n",
       "      <th>4</th>\n",
       "      <td>0.06905</td>\n",
       "      <td>0.0</td>\n",
       "      <td>2.18</td>\n",
       "      <td>0.0</td>\n",
       "      <td>0.458</td>\n",
       "      <td>7.147</td>\n",
       "      <td>54.2</td>\n",
       "      <td>6.0622</td>\n",
       "      <td>3.0</td>\n",
       "      <td>222.0</td>\n",
       "      <td>18.7</td>\n",
       "      <td>396.90</td>\n",
       "      <td>5.33</td>\n",
       "      <td>36.2</td>\n",
       "    </tr>\n",
       "  </tbody>\n",
       "</table>\n",
       "</div>"
      ],
      "text/plain": [
       "      CRIM    ZN  INDUS  CHAS    NOX     RM   AGE     DIS  RAD    TAX  \\\n",
       "0  0.00632  18.0   2.31   0.0  0.538  6.575  65.2  4.0900  1.0  296.0   \n",
       "1  0.02731   0.0   7.07   0.0  0.469  6.421  78.9  4.9671  2.0  242.0   \n",
       "2  0.02729   0.0   7.07   0.0  0.469  7.185  61.1  4.9671  2.0  242.0   \n",
       "3  0.03237   0.0   2.18   0.0  0.458  6.998  45.8  6.0622  3.0  222.0   \n",
       "4  0.06905   0.0   2.18   0.0  0.458  7.147  54.2  6.0622  3.0  222.0   \n",
       "\n",
       "   PTRATIO       B  LSTAT  PRICE  \n",
       "0     15.3  396.90   4.98   24.0  \n",
       "1     17.8  396.90   9.14   21.6  \n",
       "2     17.8  392.83   4.03   34.7  \n",
       "3     18.7  394.63   2.94   33.4  \n",
       "4     18.7  396.90   5.33   36.2  "
      ]
     },
     "execution_count": 5,
     "metadata": {},
     "output_type": "execute_result"
    }
   ],
   "source": [
    "#Adding target variable to dataframe\n",
    "data['PRICE'] = boston.target\n",
    "data.head()"
   ]
  },
  {
   "cell_type": "code",
   "execution_count": 7,
   "metadata": {},
   "outputs": [
    {
     "data": {
      "text/plain": [
       "Index(['CRIM', 'ZN', 'INDUS', 'CHAS', 'NOX', 'RM', 'AGE', 'DIS', 'RAD', 'TAX',\n",
       "       'PTRATIO', 'B', 'LSTAT', 'PRICE'],\n",
       "      dtype='object')"
      ]
     },
     "execution_count": 7,
     "metadata": {},
     "output_type": "execute_result"
    }
   ],
   "source": [
    "#Check the shape of dataframe\n",
    "data.shape"
   ]
  },
  {
   "cell_type": "code",
   "execution_count": 8,
   "metadata": {},
   "outputs": [
    {
     "data": {
      "text/plain": [
       "Index(['CRIM', 'ZN', 'INDUS', 'CHAS', 'NOX', 'RM', 'AGE', 'DIS', 'RAD', 'TAX',\n",
       "       'PTRATIO', 'B', 'LSTAT', 'PRICE'],\n",
       "      dtype='object')"
      ]
     },
     "execution_count": 8,
     "metadata": {},
     "output_type": "execute_result"
    }
   ],
   "source": [
    "data.columns"
   ]
  },
  {
   "cell_type": "code",
   "execution_count": 9,
   "metadata": {},
   "outputs": [],
   "source": [
    "# Split the data into train and test with 80 train / 20 test\n",
    "train, test = train_test_split(data, test_size=0.2, random_state = 1)\n",
    "train, val = train_test_split(train, test_size=0.2, random_state = 1)"
   ]
  },
  {
   "cell_type": "code",
   "execution_count": 10,
   "metadata": {},
   "outputs": [],
   "source": [
    "# Helper functions\n",
    "def norm(x):\n",
    "    return (x - train_stats['mean']) / train_stats['std']\n",
    "\n",
    "def format_output(data):\n",
    "    y1 = data.pop('PRICE')\n",
    "    y1 = np.array(y1)\n",
    "    y2 = data.pop('PTRATIO')\n",
    "    y2 = np.array(y2)\n",
    "    return y1, y2"
   ]
  },
  {
   "cell_type": "code",
   "execution_count": 11,
   "metadata": {},
   "outputs": [
    {
     "name": "stdout",
     "output_type": "stream",
     "text": [
      "       count        mean         std        min         25%        50%  \\\n",
      "CRIM   323.0    3.882044    9.680410    0.00632    0.082865    0.25387   \n",
      "ZN     323.0   12.233746   24.323780    0.00000    0.000000    0.00000   \n",
      "INDUS  323.0   11.121796    6.876617    0.46000    5.190000    8.56000   \n",
      "CHAS   323.0    0.080495    0.272481    0.00000    0.000000    0.00000   \n",
      "NOX    323.0    0.553683    0.118625    0.38500    0.447500    0.53200   \n",
      "RM     323.0    6.276935    0.691051    3.56100    5.886500    6.19300   \n",
      "AGE    323.0   68.279876   28.452257    2.90000   43.550000   77.70000   \n",
      "DIS    323.0    3.864749    2.154972    1.12960    2.120350    3.36030   \n",
      "RAD    323.0    9.721362    8.801984    1.00000    4.000000    5.00000   \n",
      "TAX    323.0  406.588235  170.365557  187.00000  279.000000  329.00000   \n",
      "B      323.0  359.145604   89.252050    0.32000  376.355000  391.93000   \n",
      "LSTAT  323.0   12.733529    7.251569    1.73000    7.065000   11.45000   \n",
      "\n",
      "              75%       max  \n",
      "CRIM     3.944055   88.9762  \n",
      "ZN      19.000000  100.0000  \n",
      "INDUS   18.100000   27.7400  \n",
      "CHAS     0.000000    1.0000  \n",
      "NOX      0.624000    0.8710  \n",
      "RM       6.666500    8.7800  \n",
      "AGE     93.900000  100.0000  \n",
      "DIS      5.237900   12.1265  \n",
      "RAD     24.000000   24.0000  \n",
      "TAX    666.000000  711.0000  \n",
      "B      396.100000  396.9000  \n",
      "LSTAT   17.155000   37.9700  \n"
     ]
    }
   ],
   "source": [
    "# Get PRICE and PTRATIO as the 2 outputs and format them as np arrays\n",
    "# PTRATIO - pupil-teacher ratio by town\n",
    "train_stats = train.describe()\n",
    "train_stats.pop('PRICE')\n",
    "train_stats.pop('PTRATIO')\n",
    "train_stats = train_stats.transpose()\n",
    "train_Y = format_output(train)\n",
    "test_Y = format_output(test)\n",
    "val_Y = format_output(val)\n",
    "\n",
    "print(train_stats)"
   ]
  },
  {
   "cell_type": "code",
   "execution_count": 12,
   "metadata": {},
   "outputs": [],
   "source": [
    "# Normalize the training and test data\n",
    "norm_train_X = np.array(norm(train))\n",
    "norm_test_X = np.array(norm(test))\n",
    "norm_val_X = np.array(norm(val))"
   ]
  },
  {
   "cell_type": "code",
   "execution_count": 13,
   "metadata": {},
   "outputs": [],
   "source": [
    "def build_model():\n",
    "    # Define model layers.\n",
    "    input_layer = Input(shape=(len(train .columns),))\n",
    "    first_dense = Dense(units='128', activation='relu')(input_layer)\n",
    "    # Y1 output will be fed from the first dense\n",
    "    y1_output = Dense(units='1', name='price_output')(first_dense)\n",
    "\n",
    "    second_dense = Dense(units='128', activation='relu')(first_dense)\n",
    "    # Y2 output will be fed from the second dense\n",
    "    y2_output = Dense(units='1', name='ptratio_output')(second_dense)\n",
    "\n",
    "    # Define the model with the input layer and a list of output layers\n",
    "    model = Model(inputs=input_layer, outputs=[y1_output, y2_output])\n",
    "\n",
    "    return model"
   ]
  },
  {
   "cell_type": "code",
   "execution_count": 14,
   "metadata": {},
   "outputs": [
    {
     "name": "stderr",
     "output_type": "stream",
     "text": [
      "WARNING:absl:`lr` is deprecated, please use `learning_rate` instead, or use the legacy optimizer, e.g.,tf.keras.optimizers.legacy.SGD.\n"
     ]
    }
   ],
   "source": [
    "model = build_model()\n",
    "\n",
    "# Specify the optimizer, and compile the model with loss functions for both outputs\n",
    "optimizer = tf.keras.optimizers.SGD(lr=0.001)\n",
    "model.compile(optimizer=optimizer,\n",
    "              loss={'price_output': 'mse', 'ptratio_output': 'mse'},\n",
    "              metrics={'price_output': tf.keras.metrics.RootMeanSquaredError(),\n",
    "                       'ptratio_output': tf.keras.metrics.RootMeanSquaredError()})"
   ]
  },
  {
   "cell_type": "code",
   "execution_count": 15,
   "metadata": {},
   "outputs": [
    {
     "name": "stdout",
     "output_type": "stream",
     "text": [
      "Epoch 1/100\n",
      "33/33 [==============================] - 2s 17ms/step - loss: 204.9992 - price_output_loss: 96.0113 - ptratio_output_loss: 108.9879 - price_output_root_mean_squared_error: 9.7985 - ptratio_output_root_mean_squared_error: 10.4397 - val_loss: 180.1942 - val_price_output_loss: 163.2335 - val_ptratio_output_loss: 16.9607 - val_price_output_root_mean_squared_error: 12.7763 - val_ptratio_output_root_mean_squared_error: 4.1183\n",
      "Epoch 2/100\n",
      "33/33 [==============================] - 0s 4ms/step - loss: 73.4462 - price_output_loss: 34.9536 - ptratio_output_loss: 38.4926 - price_output_root_mean_squared_error: 5.9122 - ptratio_output_root_mean_squared_error: 6.2042 - val_loss: 37.2614 - val_price_output_loss: 29.4227 - val_ptratio_output_loss: 7.8386 - val_price_output_root_mean_squared_error: 5.4243 - val_ptratio_output_root_mean_squared_error: 2.7998\n",
      "Epoch 3/100\n",
      "33/33 [==============================] - 0s 4ms/step - loss: 54.0061 - price_output_loss: 27.3981 - ptratio_output_loss: 26.6080 - price_output_root_mean_squared_error: 5.2343 - ptratio_output_root_mean_squared_error: 5.1583 - val_loss: 70.4950 - val_price_output_loss: 54.8515 - val_ptratio_output_loss: 15.6435 - val_price_output_root_mean_squared_error: 7.4062 - val_ptratio_output_root_mean_squared_error: 3.9552\n",
      "Epoch 4/100\n",
      "33/33 [==============================] - 0s 4ms/step - loss: 63.2983 - price_output_loss: 44.2574 - ptratio_output_loss: 19.0409 - price_output_root_mean_squared_error: 6.6526 - ptratio_output_root_mean_squared_error: 4.3636 - val_loss: 20.2341 - val_price_output_loss: 12.0005 - val_ptratio_output_loss: 8.2336 - val_price_output_root_mean_squared_error: 3.4642 - val_ptratio_output_root_mean_squared_error: 2.8694\n",
      "Epoch 5/100\n",
      "33/33 [==============================] - 0s 4ms/step - loss: 32.9454 - price_output_loss: 20.6721 - ptratio_output_loss: 12.2734 - price_output_root_mean_squared_error: 4.5467 - ptratio_output_root_mean_squared_error: 3.5033 - val_loss: 29.7717 - val_price_output_loss: 22.8010 - val_ptratio_output_loss: 6.9708 - val_price_output_root_mean_squared_error: 4.7750 - val_ptratio_output_root_mean_squared_error: 2.6402\n",
      "Epoch 6/100\n",
      "33/33 [==============================] - 0s 4ms/step - loss: 24.9326 - price_output_loss: 18.9432 - ptratio_output_loss: 5.9894 - price_output_root_mean_squared_error: 4.3524 - ptratio_output_root_mean_squared_error: 2.4473 - val_loss: 19.7508 - val_price_output_loss: 12.7368 - val_ptratio_output_loss: 7.0140 - val_price_output_root_mean_squared_error: 3.5689 - val_ptratio_output_root_mean_squared_error: 2.6484\n",
      "Epoch 7/100\n",
      "33/33 [==============================] - 0s 5ms/step - loss: 28.0190 - price_output_loss: 17.6213 - ptratio_output_loss: 10.3978 - price_output_root_mean_squared_error: 4.1978 - ptratio_output_root_mean_squared_error: 3.2246 - val_loss: 77.1057 - val_price_output_loss: 56.2246 - val_ptratio_output_loss: 20.8811 - val_price_output_root_mean_squared_error: 7.4983 - val_ptratio_output_root_mean_squared_error: 4.5696\n",
      "Epoch 8/100\n",
      "33/33 [==============================] - 0s 5ms/step - loss: 28.7155 - price_output_loss: 22.9264 - ptratio_output_loss: 5.7891 - price_output_root_mean_squared_error: 4.7881 - ptratio_output_root_mean_squared_error: 2.4061 - val_loss: 34.8194 - val_price_output_loss: 30.5890 - val_ptratio_output_loss: 4.2305 - val_price_output_root_mean_squared_error: 5.5307 - val_ptratio_output_root_mean_squared_error: 2.0568\n",
      "Epoch 9/100\n",
      "33/33 [==============================] - 0s 5ms/step - loss: 21.9136 - price_output_loss: 17.3678 - ptratio_output_loss: 4.5458 - price_output_root_mean_squared_error: 4.1675 - ptratio_output_root_mean_squared_error: 2.1321 - val_loss: 29.2420 - val_price_output_loss: 14.3341 - val_ptratio_output_loss: 14.9079 - val_price_output_root_mean_squared_error: 3.7860 - val_ptratio_output_root_mean_squared_error: 3.8611\n",
      "Epoch 10/100\n",
      "33/33 [==============================] - 0s 5ms/step - loss: 17.7228 - price_output_loss: 14.1034 - ptratio_output_loss: 3.6194 - price_output_root_mean_squared_error: 3.7554 - ptratio_output_root_mean_squared_error: 1.9025 - val_loss: 23.8449 - val_price_output_loss: 16.8978 - val_ptratio_output_loss: 6.9471 - val_price_output_root_mean_squared_error: 4.1107 - val_ptratio_output_root_mean_squared_error: 2.6357\n",
      "Epoch 11/100\n",
      "33/33 [==============================] - 0s 6ms/step - loss: 20.4471 - price_output_loss: 16.6471 - ptratio_output_loss: 3.8000 - price_output_root_mean_squared_error: 4.0801 - ptratio_output_root_mean_squared_error: 1.9494 - val_loss: 45.3738 - val_price_output_loss: 33.2118 - val_ptratio_output_loss: 12.1621 - val_price_output_root_mean_squared_error: 5.7630 - val_ptratio_output_root_mean_squared_error: 3.4874\n",
      "Epoch 12/100\n",
      "33/33 [==============================] - 0s 5ms/step - loss: 20.7075 - price_output_loss: 15.8300 - ptratio_output_loss: 4.8775 - price_output_root_mean_squared_error: 3.9787 - ptratio_output_root_mean_squared_error: 2.2085 - val_loss: 23.1534 - val_price_output_loss: 15.1811 - val_ptratio_output_loss: 7.9723 - val_price_output_root_mean_squared_error: 3.8963 - val_ptratio_output_root_mean_squared_error: 2.8235\n",
      "Epoch 13/100\n",
      "33/33 [==============================] - 0s 5ms/step - loss: 19.9296 - price_output_loss: 16.9646 - ptratio_output_loss: 2.9650 - price_output_root_mean_squared_error: 4.1188 - ptratio_output_root_mean_squared_error: 1.7219 - val_loss: 55.1654 - val_price_output_loss: 50.2010 - val_ptratio_output_loss: 4.9644 - val_price_output_root_mean_squared_error: 7.0853 - val_ptratio_output_root_mean_squared_error: 2.2281\n",
      "Epoch 14/100\n",
      "33/33 [==============================] - 0s 4ms/step - loss: 19.1026 - price_output_loss: 16.5311 - ptratio_output_loss: 2.5715 - price_output_root_mean_squared_error: 4.0658 - ptratio_output_root_mean_squared_error: 1.6036 - val_loss: 18.6046 - val_price_output_loss: 14.8275 - val_ptratio_output_loss: 3.7771 - val_price_output_root_mean_squared_error: 3.8507 - val_ptratio_output_root_mean_squared_error: 1.9435\n",
      "Epoch 15/100\n",
      "33/33 [==============================] - 0s 5ms/step - loss: 22.8505 - price_output_loss: 20.1168 - ptratio_output_loss: 2.7337 - price_output_root_mean_squared_error: 4.4852 - ptratio_output_root_mean_squared_error: 1.6534 - val_loss: 24.7332 - val_price_output_loss: 20.1451 - val_ptratio_output_loss: 4.5881 - val_price_output_root_mean_squared_error: 4.4883 - val_ptratio_output_root_mean_squared_error: 2.1420\n",
      "Epoch 16/100\n",
      "33/33 [==============================] - 0s 5ms/step - loss: 15.0940 - price_output_loss: 12.6176 - ptratio_output_loss: 2.4764 - price_output_root_mean_squared_error: 3.5521 - ptratio_output_root_mean_squared_error: 1.5737 - val_loss: 15.5579 - val_price_output_loss: 11.6576 - val_ptratio_output_loss: 3.9004 - val_price_output_root_mean_squared_error: 3.4143 - val_ptratio_output_root_mean_squared_error: 1.9749\n",
      "Epoch 17/100\n",
      "33/33 [==============================] - 0s 4ms/step - loss: 13.6613 - price_output_loss: 11.8414 - ptratio_output_loss: 1.8200 - price_output_root_mean_squared_error: 3.4411 - ptratio_output_root_mean_squared_error: 1.3491 - val_loss: 14.0692 - val_price_output_loss: 11.4581 - val_ptratio_output_loss: 2.6111 - val_price_output_root_mean_squared_error: 3.3850 - val_ptratio_output_root_mean_squared_error: 1.6159\n",
      "Epoch 18/100\n",
      "33/33 [==============================] - 0s 4ms/step - loss: 17.0655 - price_output_loss: 14.4581 - ptratio_output_loss: 2.6074 - price_output_root_mean_squared_error: 3.8024 - ptratio_output_root_mean_squared_error: 1.6148 - val_loss: 33.7709 - val_price_output_loss: 30.7302 - val_ptratio_output_loss: 3.0407 - val_price_output_root_mean_squared_error: 5.5435 - val_ptratio_output_root_mean_squared_error: 1.7438\n",
      "Epoch 19/100\n",
      "33/33 [==============================] - 0s 4ms/step - loss: 16.0975 - price_output_loss: 13.6482 - ptratio_output_loss: 2.4492 - price_output_root_mean_squared_error: 3.6944 - ptratio_output_root_mean_squared_error: 1.5650 - val_loss: 14.7531 - val_price_output_loss: 11.9753 - val_ptratio_output_loss: 2.7778 - val_price_output_root_mean_squared_error: 3.4605 - val_ptratio_output_root_mean_squared_error: 1.6667\n",
      "Epoch 20/100\n"
     ]
    },
    {
     "name": "stdout",
     "output_type": "stream",
     "text": [
      "33/33 [==============================] - 0s 4ms/step - loss: 15.7844 - price_output_loss: 12.6736 - ptratio_output_loss: 3.1107 - price_output_root_mean_squared_error: 3.5600 - ptratio_output_root_mean_squared_error: 1.7637 - val_loss: 147.0905 - val_price_output_loss: 140.9426 - val_ptratio_output_loss: 6.1478 - val_price_output_root_mean_squared_error: 11.8719 - val_ptratio_output_root_mean_squared_error: 2.4795\n",
      "Epoch 21/100\n",
      "33/33 [==============================] - 0s 5ms/step - loss: 19.6710 - price_output_loss: 17.5983 - ptratio_output_loss: 2.0728 - price_output_root_mean_squared_error: 4.1950 - ptratio_output_root_mean_squared_error: 1.4397 - val_loss: 22.1754 - val_price_output_loss: 11.3829 - val_ptratio_output_loss: 10.7925 - val_price_output_root_mean_squared_error: 3.3738 - val_ptratio_output_root_mean_squared_error: 3.2852\n",
      "Epoch 22/100\n",
      "33/33 [==============================] - 0s 5ms/step - loss: 16.2121 - price_output_loss: 13.4017 - ptratio_output_loss: 2.8104 - price_output_root_mean_squared_error: 3.6608 - ptratio_output_root_mean_squared_error: 1.6764 - val_loss: 14.4461 - val_price_output_loss: 11.5164 - val_ptratio_output_loss: 2.9297 - val_price_output_root_mean_squared_error: 3.3936 - val_ptratio_output_root_mean_squared_error: 1.7116\n",
      "Epoch 23/100\n",
      "33/33 [==============================] - 0s 4ms/step - loss: 14.4454 - price_output_loss: 12.6437 - ptratio_output_loss: 1.8017 - price_output_root_mean_squared_error: 3.5558 - ptratio_output_root_mean_squared_error: 1.3423 - val_loss: 19.2179 - val_price_output_loss: 14.2607 - val_ptratio_output_loss: 4.9572 - val_price_output_root_mean_squared_error: 3.7763 - val_ptratio_output_root_mean_squared_error: 2.2265\n",
      "Epoch 24/100\n",
      "33/33 [==============================] - 0s 4ms/step - loss: 12.5944 - price_output_loss: 10.2648 - ptratio_output_loss: 2.3296 - price_output_root_mean_squared_error: 3.2039 - ptratio_output_root_mean_squared_error: 1.5263 - val_loss: 43.2369 - val_price_output_loss: 25.1828 - val_ptratio_output_loss: 18.0541 - val_price_output_root_mean_squared_error: 5.0182 - val_ptratio_output_root_mean_squared_error: 4.2490\n",
      "Epoch 25/100\n",
      "33/33 [==============================] - 0s 4ms/step - loss: 15.1285 - price_output_loss: 12.2391 - ptratio_output_loss: 2.8894 - price_output_root_mean_squared_error: 3.4984 - ptratio_output_root_mean_squared_error: 1.6998 - val_loss: 14.7092 - val_price_output_loss: 10.7878 - val_ptratio_output_loss: 3.9214 - val_price_output_root_mean_squared_error: 3.2845 - val_ptratio_output_root_mean_squared_error: 1.9803\n",
      "Epoch 26/100\n",
      "33/33 [==============================] - 0s 4ms/step - loss: 12.7184 - price_output_loss: 10.1843 - ptratio_output_loss: 2.5341 - price_output_root_mean_squared_error: 3.1913 - ptratio_output_root_mean_squared_error: 1.5919 - val_loss: 22.2990 - val_price_output_loss: 18.5729 - val_ptratio_output_loss: 3.7261 - val_price_output_root_mean_squared_error: 4.3096 - val_ptratio_output_root_mean_squared_error: 1.9303\n",
      "Epoch 27/100\n",
      "33/33 [==============================] - 0s 4ms/step - loss: 15.4893 - price_output_loss: 13.1618 - ptratio_output_loss: 2.3275 - price_output_root_mean_squared_error: 3.6279 - ptratio_output_root_mean_squared_error: 1.5256 - val_loss: 33.3857 - val_price_output_loss: 27.1515 - val_ptratio_output_loss: 6.2342 - val_price_output_root_mean_squared_error: 5.2107 - val_ptratio_output_root_mean_squared_error: 2.4968\n",
      "Epoch 28/100\n",
      "33/33 [==============================] - 0s 5ms/step - loss: 13.3002 - price_output_loss: 11.8047 - ptratio_output_loss: 1.4955 - price_output_root_mean_squared_error: 3.4358 - ptratio_output_root_mean_squared_error: 1.2229 - val_loss: 20.9825 - val_price_output_loss: 16.9604 - val_ptratio_output_loss: 4.0221 - val_price_output_root_mean_squared_error: 4.1183 - val_ptratio_output_root_mean_squared_error: 2.0055\n",
      "Epoch 29/100\n",
      "33/33 [==============================] - 0s 5ms/step - loss: 12.9122 - price_output_loss: 11.2476 - ptratio_output_loss: 1.6647 - price_output_root_mean_squared_error: 3.3537 - ptratio_output_root_mean_squared_error: 1.2902 - val_loss: 15.1639 - val_price_output_loss: 10.3706 - val_ptratio_output_loss: 4.7933 - val_price_output_root_mean_squared_error: 3.2203 - val_ptratio_output_root_mean_squared_error: 2.1894\n",
      "Epoch 30/100\n",
      "33/33 [==============================] - 0s 4ms/step - loss: 12.4686 - price_output_loss: 11.0252 - ptratio_output_loss: 1.4434 - price_output_root_mean_squared_error: 3.3204 - ptratio_output_root_mean_squared_error: 1.2014 - val_loss: 14.1337 - val_price_output_loss: 11.4740 - val_ptratio_output_loss: 2.6598 - val_price_output_root_mean_squared_error: 3.3873 - val_ptratio_output_root_mean_squared_error: 1.6309\n",
      "Epoch 31/100\n",
      "33/33 [==============================] - 0s 4ms/step - loss: 11.4394 - price_output_loss: 10.0873 - ptratio_output_loss: 1.3520 - price_output_root_mean_squared_error: 3.1761 - ptratio_output_root_mean_squared_error: 1.1628 - val_loss: 18.9408 - val_price_output_loss: 16.7655 - val_ptratio_output_loss: 2.1753 - val_price_output_root_mean_squared_error: 4.0946 - val_ptratio_output_root_mean_squared_error: 1.4749\n",
      "Epoch 32/100\n",
      "33/33 [==============================] - 0s 4ms/step - loss: 13.2320 - price_output_loss: 11.7142 - ptratio_output_loss: 1.5178 - price_output_root_mean_squared_error: 3.4226 - ptratio_output_root_mean_squared_error: 1.2320 - val_loss: 12.6456 - val_price_output_loss: 10.1368 - val_ptratio_output_loss: 2.5088 - val_price_output_root_mean_squared_error: 3.1838 - val_ptratio_output_root_mean_squared_error: 1.5839\n",
      "Epoch 33/100\n",
      "33/33 [==============================] - 0s 5ms/step - loss: 10.7462 - price_output_loss: 9.4992 - ptratio_output_loss: 1.2470 - price_output_root_mean_squared_error: 3.0821 - ptratio_output_root_mean_squared_error: 1.1167 - val_loss: 14.4199 - val_price_output_loss: 12.1549 - val_ptratio_output_loss: 2.2650 - val_price_output_root_mean_squared_error: 3.4864 - val_ptratio_output_root_mean_squared_error: 1.5050\n",
      "Epoch 34/100\n",
      "33/33 [==============================] - 0s 4ms/step - loss: 11.1762 - price_output_loss: 9.4944 - ptratio_output_loss: 1.6818 - price_output_root_mean_squared_error: 3.0813 - ptratio_output_root_mean_squared_error: 1.2968 - val_loss: 33.6157 - val_price_output_loss: 24.4209 - val_ptratio_output_loss: 9.1949 - val_price_output_root_mean_squared_error: 4.9417 - val_ptratio_output_root_mean_squared_error: 3.0323\n",
      "Epoch 35/100\n",
      "33/33 [==============================] - 0s 4ms/step - loss: 14.4291 - price_output_loss: 12.9222 - ptratio_output_loss: 1.5069 - price_output_root_mean_squared_error: 3.5947 - ptratio_output_root_mean_squared_error: 1.2276 - val_loss: 26.5985 - val_price_output_loss: 23.8416 - val_ptratio_output_loss: 2.7569 - val_price_output_root_mean_squared_error: 4.8828 - val_ptratio_output_root_mean_squared_error: 1.6604\n",
      "Epoch 36/100\n",
      "33/33 [==============================] - 0s 4ms/step - loss: 11.5605 - price_output_loss: 10.2320 - ptratio_output_loss: 1.3285 - price_output_root_mean_squared_error: 3.1988 - ptratio_output_root_mean_squared_error: 1.1526 - val_loss: 15.1103 - val_price_output_loss: 11.4474 - val_ptratio_output_loss: 3.6629 - val_price_output_root_mean_squared_error: 3.3834 - val_ptratio_output_root_mean_squared_error: 1.9139\n",
      "Epoch 37/100\n",
      "33/33 [==============================] - 0s 4ms/step - loss: 10.6003 - price_output_loss: 9.1117 - ptratio_output_loss: 1.4886 - price_output_root_mean_squared_error: 3.0186 - ptratio_output_root_mean_squared_error: 1.2201 - val_loss: 12.6225 - val_price_output_loss: 10.5464 - val_ptratio_output_loss: 2.0761 - val_price_output_root_mean_squared_error: 3.2475 - val_ptratio_output_root_mean_squared_error: 1.4409\n",
      "Epoch 38/100\n",
      "33/33 [==============================] - 0s 4ms/step - loss: 10.0053 - price_output_loss: 8.4874 - ptratio_output_loss: 1.5180 - price_output_root_mean_squared_error: 2.9133 - ptratio_output_root_mean_squared_error: 1.2321 - val_loss: 11.0892 - val_price_output_loss: 8.8514 - val_ptratio_output_loss: 2.2378 - val_price_output_root_mean_squared_error: 2.9751 - val_ptratio_output_root_mean_squared_error: 1.4959\n",
      "Epoch 39/100\n"
     ]
    },
    {
     "name": "stdout",
     "output_type": "stream",
     "text": [
      "33/33 [==============================] - 0s 4ms/step - loss: 10.6721 - price_output_loss: 9.5070 - ptratio_output_loss: 1.1651 - price_output_root_mean_squared_error: 3.0833 - ptratio_output_root_mean_squared_error: 1.0794 - val_loss: 12.7349 - val_price_output_loss: 10.3868 - val_ptratio_output_loss: 2.3481 - val_price_output_root_mean_squared_error: 3.2228 - val_ptratio_output_root_mean_squared_error: 1.5324\n",
      "Epoch 40/100\n",
      "33/33 [==============================] - 0s 4ms/step - loss: 13.3071 - price_output_loss: 11.7340 - ptratio_output_loss: 1.5731 - price_output_root_mean_squared_error: 3.4255 - ptratio_output_root_mean_squared_error: 1.2542 - val_loss: 12.3623 - val_price_output_loss: 9.2085 - val_ptratio_output_loss: 3.1538 - val_price_output_root_mean_squared_error: 3.0346 - val_ptratio_output_root_mean_squared_error: 1.7759\n",
      "Epoch 41/100\n",
      "33/33 [==============================] - 0s 4ms/step - loss: 10.9093 - price_output_loss: 9.4861 - ptratio_output_loss: 1.4233 - price_output_root_mean_squared_error: 3.0799 - ptratio_output_root_mean_squared_error: 1.1930 - val_loss: 12.1638 - val_price_output_loss: 8.8738 - val_ptratio_output_loss: 3.2900 - val_price_output_root_mean_squared_error: 2.9789 - val_ptratio_output_root_mean_squared_error: 1.8138\n",
      "Epoch 42/100\n",
      "33/33 [==============================] - 0s 4ms/step - loss: 9.0899 - price_output_loss: 8.0951 - ptratio_output_loss: 0.9948 - price_output_root_mean_squared_error: 2.8452 - ptratio_output_root_mean_squared_error: 0.9974 - val_loss: 11.4389 - val_price_output_loss: 8.8444 - val_ptratio_output_loss: 2.5945 - val_price_output_root_mean_squared_error: 2.9740 - val_ptratio_output_root_mean_squared_error: 1.6107\n",
      "Epoch 43/100\n",
      "33/33 [==============================] - 0s 4ms/step - loss: 8.4487 - price_output_loss: 7.4297 - ptratio_output_loss: 1.0189 - price_output_root_mean_squared_error: 2.7258 - ptratio_output_root_mean_squared_error: 1.0094 - val_loss: 13.1016 - val_price_output_loss: 10.6254 - val_ptratio_output_loss: 2.4762 - val_price_output_root_mean_squared_error: 3.2597 - val_ptratio_output_root_mean_squared_error: 1.5736\n",
      "Epoch 44/100\n",
      "33/33 [==============================] - 0s 4ms/step - loss: 10.0734 - price_output_loss: 8.8700 - ptratio_output_loss: 1.2033 - price_output_root_mean_squared_error: 2.9783 - ptratio_output_root_mean_squared_error: 1.0970 - val_loss: 27.4679 - val_price_output_loss: 19.6389 - val_ptratio_output_loss: 7.8290 - val_price_output_root_mean_squared_error: 4.4316 - val_ptratio_output_root_mean_squared_error: 2.7980\n",
      "Epoch 45/100\n",
      "33/33 [==============================] - 0s 4ms/step - loss: 9.8544 - price_output_loss: 8.2556 - ptratio_output_loss: 1.5988 - price_output_root_mean_squared_error: 2.8733 - ptratio_output_root_mean_squared_error: 1.2644 - val_loss: 13.2605 - val_price_output_loss: 10.5513 - val_ptratio_output_loss: 2.7092 - val_price_output_root_mean_squared_error: 3.2483 - val_ptratio_output_root_mean_squared_error: 1.6460\n",
      "Epoch 46/100\n",
      "33/33 [==============================] - 0s 4ms/step - loss: 8.5238 - price_output_loss: 7.3610 - ptratio_output_loss: 1.1629 - price_output_root_mean_squared_error: 2.7131 - ptratio_output_root_mean_squared_error: 1.0784 - val_loss: 12.4083 - val_price_output_loss: 9.9006 - val_ptratio_output_loss: 2.5077 - val_price_output_root_mean_squared_error: 3.1465 - val_ptratio_output_root_mean_squared_error: 1.5836\n",
      "Epoch 47/100\n",
      "33/33 [==============================] - 0s 4ms/step - loss: 9.5075 - price_output_loss: 8.7058 - ptratio_output_loss: 0.8017 - price_output_root_mean_squared_error: 2.9506 - ptratio_output_root_mean_squared_error: 0.8954 - val_loss: 11.3170 - val_price_output_loss: 8.9855 - val_ptratio_output_loss: 2.3315 - val_price_output_root_mean_squared_error: 2.9976 - val_ptratio_output_root_mean_squared_error: 1.5269\n",
      "Epoch 48/100\n",
      "33/33 [==============================] - 0s 4ms/step - loss: 9.6536 - price_output_loss: 8.3431 - ptratio_output_loss: 1.3105 - price_output_root_mean_squared_error: 2.8884 - ptratio_output_root_mean_squared_error: 1.1448 - val_loss: 14.2270 - val_price_output_loss: 10.1140 - val_ptratio_output_loss: 4.1130 - val_price_output_root_mean_squared_error: 3.1803 - val_ptratio_output_root_mean_squared_error: 2.0280\n",
      "Epoch 49/100\n",
      "33/33 [==============================] - 0s 4ms/step - loss: 10.5802 - price_output_loss: 8.6253 - ptratio_output_loss: 1.9549 - price_output_root_mean_squared_error: 2.9369 - ptratio_output_root_mean_squared_error: 1.3982 - val_loss: 11.9012 - val_price_output_loss: 9.4796 - val_ptratio_output_loss: 2.4216 - val_price_output_root_mean_squared_error: 3.0789 - val_ptratio_output_root_mean_squared_error: 1.5562\n",
      "Epoch 50/100\n",
      "33/33 [==============================] - 0s 4ms/step - loss: 8.9862 - price_output_loss: 7.9560 - ptratio_output_loss: 1.0302 - price_output_root_mean_squared_error: 2.8206 - ptratio_output_root_mean_squared_error: 1.0150 - val_loss: 13.4494 - val_price_output_loss: 11.3687 - val_ptratio_output_loss: 2.0807 - val_price_output_root_mean_squared_error: 3.3717 - val_ptratio_output_root_mean_squared_error: 1.4425\n",
      "Epoch 51/100\n",
      "33/33 [==============================] - 0s 4ms/step - loss: 8.4634 - price_output_loss: 7.3105 - ptratio_output_loss: 1.1529 - price_output_root_mean_squared_error: 2.7038 - ptratio_output_root_mean_squared_error: 1.0737 - val_loss: 14.9534 - val_price_output_loss: 11.4651 - val_ptratio_output_loss: 3.4883 - val_price_output_root_mean_squared_error: 3.3860 - val_ptratio_output_root_mean_squared_error: 1.8677\n",
      "Epoch 52/100\n",
      "33/33 [==============================] - 0s 4ms/step - loss: 8.6600 - price_output_loss: 7.1452 - ptratio_output_loss: 1.5148 - price_output_root_mean_squared_error: 2.6730 - ptratio_output_root_mean_squared_error: 1.2308 - val_loss: 10.2325 - val_price_output_loss: 8.2229 - val_ptratio_output_loss: 2.0097 - val_price_output_root_mean_squared_error: 2.8676 - val_ptratio_output_root_mean_squared_error: 1.4176\n",
      "Epoch 53/100\n",
      "33/33 [==============================] - 0s 4ms/step - loss: 7.7384 - price_output_loss: 6.7155 - ptratio_output_loss: 1.0229 - price_output_root_mean_squared_error: 2.5914 - ptratio_output_root_mean_squared_error: 1.0114 - val_loss: 13.8644 - val_price_output_loss: 11.4461 - val_ptratio_output_loss: 2.4182 - val_price_output_root_mean_squared_error: 3.3832 - val_ptratio_output_root_mean_squared_error: 1.5551\n",
      "Epoch 54/100\n",
      "33/33 [==============================] - 0s 4ms/step - loss: 7.5104 - price_output_loss: 6.6425 - ptratio_output_loss: 0.8679 - price_output_root_mean_squared_error: 2.5773 - ptratio_output_root_mean_squared_error: 0.9316 - val_loss: 13.6188 - val_price_output_loss: 10.4768 - val_ptratio_output_loss: 3.1419 - val_price_output_root_mean_squared_error: 3.2368 - val_ptratio_output_root_mean_squared_error: 1.7726\n",
      "Epoch 55/100\n",
      "33/33 [==============================] - 0s 4ms/step - loss: 7.6718 - price_output_loss: 6.6025 - ptratio_output_loss: 1.0694 - price_output_root_mean_squared_error: 2.5695 - ptratio_output_root_mean_squared_error: 1.0341 - val_loss: 19.7007 - val_price_output_loss: 17.6614 - val_ptratio_output_loss: 2.0393 - val_price_output_root_mean_squared_error: 4.2026 - val_ptratio_output_root_mean_squared_error: 1.4280\n",
      "Epoch 56/100\n",
      "33/33 [==============================] - 0s 4ms/step - loss: 8.1876 - price_output_loss: 7.1833 - ptratio_output_loss: 1.0043 - price_output_root_mean_squared_error: 2.6802 - ptratio_output_root_mean_squared_error: 1.0022 - val_loss: 15.0903 - val_price_output_loss: 11.6783 - val_ptratio_output_loss: 3.4120 - val_price_output_root_mean_squared_error: 3.4173 - val_ptratio_output_root_mean_squared_error: 1.8472\n",
      "Epoch 57/100\n",
      "33/33 [==============================] - 0s 4ms/step - loss: 8.6212 - price_output_loss: 7.6440 - ptratio_output_loss: 0.9772 - price_output_root_mean_squared_error: 2.7648 - ptratio_output_root_mean_squared_error: 0.9885 - val_loss: 15.1099 - val_price_output_loss: 12.6825 - val_ptratio_output_loss: 2.4274 - val_price_output_root_mean_squared_error: 3.5612 - val_ptratio_output_root_mean_squared_error: 1.5580\n",
      "Epoch 58/100\n"
     ]
    },
    {
     "name": "stdout",
     "output_type": "stream",
     "text": [
      "33/33 [==============================] - 0s 4ms/step - loss: 8.0405 - price_output_loss: 7.0869 - ptratio_output_loss: 0.9536 - price_output_root_mean_squared_error: 2.6621 - ptratio_output_root_mean_squared_error: 0.9765 - val_loss: 12.4402 - val_price_output_loss: 9.3033 - val_ptratio_output_loss: 3.1369 - val_price_output_root_mean_squared_error: 3.0501 - val_ptratio_output_root_mean_squared_error: 1.7711\n",
      "Epoch 59/100\n",
      "33/33 [==============================] - 0s 4ms/step - loss: 7.2712 - price_output_loss: 6.3458 - ptratio_output_loss: 0.9254 - price_output_root_mean_squared_error: 2.5191 - ptratio_output_root_mean_squared_error: 0.9620 - val_loss: 11.8034 - val_price_output_loss: 9.5320 - val_ptratio_output_loss: 2.2714 - val_price_output_root_mean_squared_error: 3.0874 - val_ptratio_output_root_mean_squared_error: 1.5071\n",
      "Epoch 60/100\n",
      "33/33 [==============================] - 0s 4ms/step - loss: 8.1769 - price_output_loss: 6.9127 - ptratio_output_loss: 1.2643 - price_output_root_mean_squared_error: 2.6292 - ptratio_output_root_mean_squared_error: 1.1244 - val_loss: 15.7636 - val_price_output_loss: 13.4514 - val_ptratio_output_loss: 2.3122 - val_price_output_root_mean_squared_error: 3.6676 - val_ptratio_output_root_mean_squared_error: 1.5206\n",
      "Epoch 61/100\n",
      "33/33 [==============================] - 0s 4ms/step - loss: 8.1844 - price_output_loss: 6.8003 - ptratio_output_loss: 1.3841 - price_output_root_mean_squared_error: 2.6077 - ptratio_output_root_mean_squared_error: 1.1765 - val_loss: 28.2555 - val_price_output_loss: 25.8113 - val_ptratio_output_loss: 2.4441 - val_price_output_root_mean_squared_error: 5.0805 - val_ptratio_output_root_mean_squared_error: 1.5634\n",
      "Epoch 62/100\n",
      "33/33 [==============================] - 0s 4ms/step - loss: 10.1217 - price_output_loss: 8.8030 - ptratio_output_loss: 1.3187 - price_output_root_mean_squared_error: 2.9670 - ptratio_output_root_mean_squared_error: 1.1484 - val_loss: 13.8787 - val_price_output_loss: 10.6894 - val_ptratio_output_loss: 3.1893 - val_price_output_root_mean_squared_error: 3.2695 - val_ptratio_output_root_mean_squared_error: 1.7859\n",
      "Epoch 63/100\n",
      "33/33 [==============================] - 0s 4ms/step - loss: 6.7937 - price_output_loss: 6.0810 - ptratio_output_loss: 0.7127 - price_output_root_mean_squared_error: 2.4660 - ptratio_output_root_mean_squared_error: 0.8442 - val_loss: 15.4104 - val_price_output_loss: 11.9236 - val_ptratio_output_loss: 3.4868 - val_price_output_root_mean_squared_error: 3.4531 - val_ptratio_output_root_mean_squared_error: 1.8673\n",
      "Epoch 64/100\n",
      "33/33 [==============================] - 0s 4ms/step - loss: 7.8618 - price_output_loss: 7.0169 - ptratio_output_loss: 0.8449 - price_output_root_mean_squared_error: 2.6489 - ptratio_output_root_mean_squared_error: 0.9192 - val_loss: 26.0301 - val_price_output_loss: 23.4262 - val_ptratio_output_loss: 2.6039 - val_price_output_root_mean_squared_error: 4.8401 - val_ptratio_output_root_mean_squared_error: 1.6137\n",
      "Epoch 65/100\n",
      "33/33 [==============================] - 0s 4ms/step - loss: 8.4992 - price_output_loss: 7.6054 - ptratio_output_loss: 0.8939 - price_output_root_mean_squared_error: 2.7578 - ptratio_output_root_mean_squared_error: 0.9455 - val_loss: 14.8595 - val_price_output_loss: 11.5881 - val_ptratio_output_loss: 3.2714 - val_price_output_root_mean_squared_error: 3.4041 - val_ptratio_output_root_mean_squared_error: 1.8087\n",
      "Epoch 66/100\n",
      "33/33 [==============================] - 0s 4ms/step - loss: 7.7198 - price_output_loss: 6.8397 - ptratio_output_loss: 0.8801 - price_output_root_mean_squared_error: 2.6153 - ptratio_output_root_mean_squared_error: 0.9381 - val_loss: 16.0419 - val_price_output_loss: 13.7927 - val_ptratio_output_loss: 2.2492 - val_price_output_root_mean_squared_error: 3.7139 - val_ptratio_output_root_mean_squared_error: 1.4997\n",
      "Epoch 67/100\n",
      "33/33 [==============================] - 0s 4ms/step - loss: 8.5370 - price_output_loss: 7.5873 - ptratio_output_loss: 0.9497 - price_output_root_mean_squared_error: 2.7545 - ptratio_output_root_mean_squared_error: 0.9745 - val_loss: 14.8756 - val_price_output_loss: 12.0496 - val_ptratio_output_loss: 2.8260 - val_price_output_root_mean_squared_error: 3.4712 - val_ptratio_output_root_mean_squared_error: 1.6811\n",
      "Epoch 68/100\n",
      "33/33 [==============================] - 0s 4ms/step - loss: 7.4250 - price_output_loss: 6.7952 - ptratio_output_loss: 0.6298 - price_output_root_mean_squared_error: 2.6068 - ptratio_output_root_mean_squared_error: 0.7936 - val_loss: 23.6832 - val_price_output_loss: 21.6322 - val_ptratio_output_loss: 2.0510 - val_price_output_root_mean_squared_error: 4.6510 - val_ptratio_output_root_mean_squared_error: 1.4321\n",
      "Epoch 69/100\n",
      "33/33 [==============================] - 0s 4ms/step - loss: 7.8426 - price_output_loss: 7.0099 - ptratio_output_loss: 0.8326 - price_output_root_mean_squared_error: 2.6476 - ptratio_output_root_mean_squared_error: 0.9125 - val_loss: 12.4065 - val_price_output_loss: 9.8794 - val_ptratio_output_loss: 2.5271 - val_price_output_root_mean_squared_error: 3.1431 - val_ptratio_output_root_mean_squared_error: 1.5897\n",
      "Epoch 70/100\n",
      "33/33 [==============================] - 0s 4ms/step - loss: 6.3360 - price_output_loss: 5.6519 - ptratio_output_loss: 0.6841 - price_output_root_mean_squared_error: 2.3774 - ptratio_output_root_mean_squared_error: 0.8271 - val_loss: 14.4397 - val_price_output_loss: 11.9695 - val_ptratio_output_loss: 2.4702 - val_price_output_root_mean_squared_error: 3.4597 - val_ptratio_output_root_mean_squared_error: 1.5717\n",
      "Epoch 71/100\n",
      "33/33 [==============================] - 0s 5ms/step - loss: 6.6892 - price_output_loss: 5.9562 - ptratio_output_loss: 0.7331 - price_output_root_mean_squared_error: 2.4405 - ptratio_output_root_mean_squared_error: 0.8562 - val_loss: 14.6860 - val_price_output_loss: 12.3487 - val_ptratio_output_loss: 2.3373 - val_price_output_root_mean_squared_error: 3.5141 - val_ptratio_output_root_mean_squared_error: 1.5288\n",
      "Epoch 72/100\n",
      "33/33 [==============================] - 0s 4ms/step - loss: 7.0938 - price_output_loss: 5.9945 - ptratio_output_loss: 1.0993 - price_output_root_mean_squared_error: 2.4484 - ptratio_output_root_mean_squared_error: 1.0485 - val_loss: 13.6071 - val_price_output_loss: 11.6522 - val_ptratio_output_loss: 1.9549 - val_price_output_root_mean_squared_error: 3.4135 - val_ptratio_output_root_mean_squared_error: 1.3982\n",
      "Epoch 73/100\n",
      "33/33 [==============================] - 0s 4ms/step - loss: 6.8880 - price_output_loss: 6.2351 - ptratio_output_loss: 0.6528 - price_output_root_mean_squared_error: 2.4970 - ptratio_output_root_mean_squared_error: 0.8080 - val_loss: 23.0377 - val_price_output_loss: 18.8423 - val_ptratio_output_loss: 4.1954 - val_price_output_root_mean_squared_error: 4.3408 - val_ptratio_output_root_mean_squared_error: 2.0483\n",
      "Epoch 74/100\n",
      "33/33 [==============================] - 0s 4ms/step - loss: 7.4846 - price_output_loss: 5.8697 - ptratio_output_loss: 1.6149 - price_output_root_mean_squared_error: 2.4228 - ptratio_output_root_mean_squared_error: 1.2708 - val_loss: 11.5485 - val_price_output_loss: 8.7682 - val_ptratio_output_loss: 2.7803 - val_price_output_root_mean_squared_error: 2.9611 - val_ptratio_output_root_mean_squared_error: 1.6674\n",
      "Epoch 75/100\n",
      "33/33 [==============================] - 0s 4ms/step - loss: 5.8867 - price_output_loss: 5.1302 - ptratio_output_loss: 0.7565 - price_output_root_mean_squared_error: 2.2650 - ptratio_output_root_mean_squared_error: 0.8698 - val_loss: 19.0191 - val_price_output_loss: 15.8137 - val_ptratio_output_loss: 3.2054 - val_price_output_root_mean_squared_error: 3.9766 - val_ptratio_output_root_mean_squared_error: 1.7904\n",
      "Epoch 76/100\n",
      "33/33 [==============================] - 0s 4ms/step - loss: 6.1527 - price_output_loss: 5.3860 - ptratio_output_loss: 0.7667 - price_output_root_mean_squared_error: 2.3208 - ptratio_output_root_mean_squared_error: 0.8756 - val_loss: 13.7374 - val_price_output_loss: 11.1676 - val_ptratio_output_loss: 2.5698 - val_price_output_root_mean_squared_error: 3.3418 - val_ptratio_output_root_mean_squared_error: 1.6031\n",
      "Epoch 77/100\n"
     ]
    },
    {
     "name": "stdout",
     "output_type": "stream",
     "text": [
      "33/33 [==============================] - 0s 4ms/step - loss: 7.1560 - price_output_loss: 6.2727 - ptratio_output_loss: 0.8833 - price_output_root_mean_squared_error: 2.5045 - ptratio_output_root_mean_squared_error: 0.9399 - val_loss: 11.7253 - val_price_output_loss: 9.3425 - val_ptratio_output_loss: 2.3828 - val_price_output_root_mean_squared_error: 3.0565 - val_ptratio_output_root_mean_squared_error: 1.5436\n",
      "Epoch 78/100\n",
      "33/33 [==============================] - 0s 4ms/step - loss: 6.4394 - price_output_loss: 5.8213 - ptratio_output_loss: 0.6181 - price_output_root_mean_squared_error: 2.4127 - ptratio_output_root_mean_squared_error: 0.7862 - val_loss: 12.2264 - val_price_output_loss: 9.9412 - val_ptratio_output_loss: 2.2853 - val_price_output_root_mean_squared_error: 3.1530 - val_ptratio_output_root_mean_squared_error: 1.5117\n",
      "Epoch 79/100\n",
      "33/33 [==============================] - 0s 4ms/step - loss: 6.2695 - price_output_loss: 5.6363 - ptratio_output_loss: 0.6333 - price_output_root_mean_squared_error: 2.3741 - ptratio_output_root_mean_squared_error: 0.7958 - val_loss: 11.8018 - val_price_output_loss: 9.3569 - val_ptratio_output_loss: 2.4448 - val_price_output_root_mean_squared_error: 3.0589 - val_ptratio_output_root_mean_squared_error: 1.5636\n",
      "Epoch 80/100\n",
      "33/33 [==============================] - 0s 4ms/step - loss: 7.2001 - price_output_loss: 6.5598 - ptratio_output_loss: 0.6403 - price_output_root_mean_squared_error: 2.5612 - ptratio_output_root_mean_squared_error: 0.8002 - val_loss: 14.5035 - val_price_output_loss: 11.9828 - val_ptratio_output_loss: 2.5207 - val_price_output_root_mean_squared_error: 3.4616 - val_ptratio_output_root_mean_squared_error: 1.5877\n",
      "Epoch 81/100\n",
      "33/33 [==============================] - 0s 4ms/step - loss: 5.8197 - price_output_loss: 5.1109 - ptratio_output_loss: 0.7088 - price_output_root_mean_squared_error: 2.2607 - ptratio_output_root_mean_squared_error: 0.8419 - val_loss: 12.4587 - val_price_output_loss: 10.1330 - val_ptratio_output_loss: 2.3257 - val_price_output_root_mean_squared_error: 3.1832 - val_ptratio_output_root_mean_squared_error: 1.5250\n",
      "Epoch 82/100\n",
      "33/33 [==============================] - 0s 4ms/step - loss: 5.7097 - price_output_loss: 5.0687 - ptratio_output_loss: 0.6410 - price_output_root_mean_squared_error: 2.2514 - ptratio_output_root_mean_squared_error: 0.8006 - val_loss: 13.8493 - val_price_output_loss: 11.4915 - val_ptratio_output_loss: 2.3578 - val_price_output_root_mean_squared_error: 3.3899 - val_ptratio_output_root_mean_squared_error: 1.5355\n",
      "Epoch 83/100\n",
      "33/33 [==============================] - 0s 4ms/step - loss: 5.3565 - price_output_loss: 4.5819 - ptratio_output_loss: 0.7746 - price_output_root_mean_squared_error: 2.1405 - ptratio_output_root_mean_squared_error: 0.8801 - val_loss: 25.5898 - val_price_output_loss: 23.1000 - val_ptratio_output_loss: 2.4898 - val_price_output_root_mean_squared_error: 4.8062 - val_ptratio_output_root_mean_squared_error: 1.5779\n",
      "Epoch 84/100\n",
      "33/33 [==============================] - 0s 4ms/step - loss: 7.6277 - price_output_loss: 7.0285 - ptratio_output_loss: 0.5992 - price_output_root_mean_squared_error: 2.6511 - ptratio_output_root_mean_squared_error: 0.7741 - val_loss: 12.9560 - val_price_output_loss: 9.7193 - val_ptratio_output_loss: 3.2366 - val_price_output_root_mean_squared_error: 3.1176 - val_ptratio_output_root_mean_squared_error: 1.7991\n",
      "Epoch 85/100\n",
      "33/33 [==============================] - 0s 4ms/step - loss: 6.0278 - price_output_loss: 5.1824 - ptratio_output_loss: 0.8453 - price_output_root_mean_squared_error: 2.2765 - ptratio_output_root_mean_squared_error: 0.9194 - val_loss: 24.1371 - val_price_output_loss: 21.5145 - val_ptratio_output_loss: 2.6226 - val_price_output_root_mean_squared_error: 4.6384 - val_ptratio_output_root_mean_squared_error: 1.6194\n",
      "Epoch 86/100\n",
      "33/33 [==============================] - 0s 4ms/step - loss: 6.2511 - price_output_loss: 5.6382 - ptratio_output_loss: 0.6129 - price_output_root_mean_squared_error: 2.3745 - ptratio_output_root_mean_squared_error: 0.7829 - val_loss: 21.3367 - val_price_output_loss: 16.7269 - val_ptratio_output_loss: 4.6098 - val_price_output_root_mean_squared_error: 4.0899 - val_ptratio_output_root_mean_squared_error: 2.1471\n",
      "Epoch 87/100\n",
      "33/33 [==============================] - 0s 4ms/step - loss: 6.1673 - price_output_loss: 5.0948 - ptratio_output_loss: 1.0724 - price_output_root_mean_squared_error: 2.2572 - ptratio_output_root_mean_squared_error: 1.0356 - val_loss: 15.0847 - val_price_output_loss: 12.8028 - val_ptratio_output_loss: 2.2819 - val_price_output_root_mean_squared_error: 3.5781 - val_ptratio_output_root_mean_squared_error: 1.5106\n",
      "Epoch 88/100\n",
      "33/33 [==============================] - 0s 4ms/step - loss: 5.6307 - price_output_loss: 4.9940 - ptratio_output_loss: 0.6367 - price_output_root_mean_squared_error: 2.2347 - ptratio_output_root_mean_squared_error: 0.7979 - val_loss: 14.3531 - val_price_output_loss: 9.9511 - val_ptratio_output_loss: 4.4020 - val_price_output_root_mean_squared_error: 3.1545 - val_ptratio_output_root_mean_squared_error: 2.0981\n",
      "Epoch 89/100\n",
      "33/33 [==============================] - 0s 4ms/step - loss: 5.7524 - price_output_loss: 5.0806 - ptratio_output_loss: 0.6719 - price_output_root_mean_squared_error: 2.2540 - ptratio_output_root_mean_squared_error: 0.8197 - val_loss: 28.7508 - val_price_output_loss: 26.3594 - val_ptratio_output_loss: 2.3914 - val_price_output_root_mean_squared_error: 5.1341 - val_ptratio_output_root_mean_squared_error: 1.5464\n",
      "Epoch 90/100\n",
      "33/33 [==============================] - 0s 4ms/step - loss: 6.4562 - price_output_loss: 5.9013 - ptratio_output_loss: 0.5549 - price_output_root_mean_squared_error: 2.4293 - ptratio_output_root_mean_squared_error: 0.7449 - val_loss: 15.5995 - val_price_output_loss: 11.7773 - val_ptratio_output_loss: 3.8223 - val_price_output_root_mean_squared_error: 3.4318 - val_ptratio_output_root_mean_squared_error: 1.9551\n",
      "Epoch 91/100\n",
      "33/33 [==============================] - 0s 4ms/step - loss: 6.5579 - price_output_loss: 5.9110 - ptratio_output_loss: 0.6469 - price_output_root_mean_squared_error: 2.4313 - ptratio_output_root_mean_squared_error: 0.8043 - val_loss: 18.5643 - val_price_output_loss: 12.3359 - val_ptratio_output_loss: 6.2285 - val_price_output_root_mean_squared_error: 3.5122 - val_ptratio_output_root_mean_squared_error: 2.4957\n",
      "Epoch 92/100\n",
      "33/33 [==============================] - 0s 4ms/step - loss: 5.3169 - price_output_loss: 4.3604 - ptratio_output_loss: 0.9564 - price_output_root_mean_squared_error: 2.0882 - ptratio_output_root_mean_squared_error: 0.9780 - val_loss: 21.4345 - val_price_output_loss: 14.7958 - val_ptratio_output_loss: 6.6387 - val_price_output_root_mean_squared_error: 3.8465 - val_ptratio_output_root_mean_squared_error: 2.5766\n",
      "Epoch 93/100\n",
      "33/33 [==============================] - 0s 4ms/step - loss: 6.3208 - price_output_loss: 5.4410 - ptratio_output_loss: 0.8799 - price_output_root_mean_squared_error: 2.3326 - ptratio_output_root_mean_squared_error: 0.9380 - val_loss: 28.1879 - val_price_output_loss: 25.5759 - val_ptratio_output_loss: 2.6120 - val_price_output_root_mean_squared_error: 5.0573 - val_ptratio_output_root_mean_squared_error: 1.6162\n",
      "Epoch 94/100\n",
      "33/33 [==============================] - 0s 5ms/step - loss: 5.8022 - price_output_loss: 5.2958 - ptratio_output_loss: 0.5064 - price_output_root_mean_squared_error: 2.3013 - ptratio_output_root_mean_squared_error: 0.7116 - val_loss: 12.5732 - val_price_output_loss: 10.2272 - val_ptratio_output_loss: 2.3460 - val_price_output_root_mean_squared_error: 3.1980 - val_ptratio_output_root_mean_squared_error: 1.5317\n",
      "Epoch 95/100\n",
      "33/33 [==============================] - 0s 5ms/step - loss: 5.4944 - price_output_loss: 4.9060 - ptratio_output_loss: 0.5884 - price_output_root_mean_squared_error: 2.2150 - ptratio_output_root_mean_squared_error: 0.7671 - val_loss: 12.7383 - val_price_output_loss: 10.3704 - val_ptratio_output_loss: 2.3679 - val_price_output_root_mean_squared_error: 3.2203 - val_ptratio_output_root_mean_squared_error: 1.5388\n",
      "Epoch 96/100\n"
     ]
    },
    {
     "name": "stdout",
     "output_type": "stream",
     "text": [
      "33/33 [==============================] - 0s 4ms/step - loss: 5.3337 - price_output_loss: 4.6712 - ptratio_output_loss: 0.6625 - price_output_root_mean_squared_error: 2.1613 - ptratio_output_root_mean_squared_error: 0.8140 - val_loss: 16.6934 - val_price_output_loss: 13.6723 - val_ptratio_output_loss: 3.0211 - val_price_output_root_mean_squared_error: 3.6976 - val_ptratio_output_root_mean_squared_error: 1.7381\n",
      "Epoch 97/100\n",
      "33/33 [==============================] - 0s 4ms/step - loss: 5.1265 - price_output_loss: 4.5510 - ptratio_output_loss: 0.5754 - price_output_root_mean_squared_error: 2.1333 - ptratio_output_root_mean_squared_error: 0.7586 - val_loss: 17.2494 - val_price_output_loss: 14.8598 - val_ptratio_output_loss: 2.3896 - val_price_output_root_mean_squared_error: 3.8548 - val_ptratio_output_root_mean_squared_error: 1.5458\n",
      "Epoch 98/100\n",
      "33/33 [==============================] - 0s 4ms/step - loss: 4.7565 - price_output_loss: 4.3146 - ptratio_output_loss: 0.4420 - price_output_root_mean_squared_error: 2.0772 - ptratio_output_root_mean_squared_error: 0.6648 - val_loss: 15.4425 - val_price_output_loss: 13.2005 - val_ptratio_output_loss: 2.2421 - val_price_output_root_mean_squared_error: 3.6332 - val_ptratio_output_root_mean_squared_error: 1.4974\n",
      "Epoch 99/100\n",
      "33/33 [==============================] - 0s 4ms/step - loss: 4.6903 - price_output_loss: 4.1933 - ptratio_output_loss: 0.4970 - price_output_root_mean_squared_error: 2.0478 - ptratio_output_root_mean_squared_error: 0.7050 - val_loss: 12.4004 - val_price_output_loss: 10.0129 - val_ptratio_output_loss: 2.3875 - val_price_output_root_mean_squared_error: 3.1643 - val_ptratio_output_root_mean_squared_error: 1.5452\n",
      "Epoch 100/100\n",
      "33/33 [==============================] - 0s 4ms/step - loss: 4.2638 - price_output_loss: 3.5826 - ptratio_output_loss: 0.6812 - price_output_root_mean_squared_error: 1.8928 - ptratio_output_root_mean_squared_error: 0.8253 - val_loss: 12.2005 - val_price_output_loss: 9.7367 - val_ptratio_output_loss: 2.4638 - val_price_output_root_mean_squared_error: 3.1204 - val_ptratio_output_root_mean_squared_error: 1.5697\n"
     ]
    }
   ],
   "source": [
    "# Train the model for 100 epochs\n",
    "history = model.fit(norm_train_X, train_Y,\n",
    "                    epochs=100, batch_size=10, validation_data=(norm_test_X, test_Y))"
   ]
  },
  {
   "cell_type": "code",
   "execution_count": 16,
   "metadata": {},
   "outputs": [
    {
     "name": "stdout",
     "output_type": "stream",
     "text": [
      "3/3 [==============================] - 0s 5ms/step - loss: 14.6413 - price_output_loss: 13.0014 - ptratio_output_loss: 1.6400 - price_output_root_mean_squared_error: 3.6057 - ptratio_output_root_mean_squared_error: 1.2806\n",
      "\n",
      "loss: 14.641337394714355\n",
      "price_loss: 13.001360893249512\n",
      "ptratio_loss: 1.6399766206741333\n",
      "price_rmse: 3.6057400703430176\n",
      "ptratio_rmse: 1.2806156873703003\n"
     ]
    }
   ],
   "source": [
    "# Test the model and print loss and rmse for both outputs\n",
    "loss, Y1_loss, Y2_loss, Y1_rmse, Y2_rmse = model.evaluate(x=norm_val_X, y=val_Y)\n",
    "\n",
    "print()\n",
    "print(f'loss: {loss}')\n",
    "print(f'price_loss: {Y1_loss}')\n",
    "print(f'ptratio_loss: {Y2_loss}')\n",
    "print(f'price_rmse: {Y1_rmse}')\n",
    "print(f'ptratio_rmse: {Y2_rmse}')"
   ]
  },
  {
   "cell_type": "code",
   "execution_count": 17,
   "metadata": {},
   "outputs": [],
   "source": [
    "def plot_diff(y_true, y_pred, title=''):\n",
    "    plt.scatter(y_true, y_pred)\n",
    "    plt.title(title)\n",
    "    plt.xlabel('True Values')\n",
    "    plt.ylabel('Predictions')\n",
    "    plt.axis('equal')\n",
    "    plt.axis('square')\n",
    "    plt.xlim(plt.xlim())\n",
    "    plt.ylim(plt.ylim())\n",
    "    plt.plot([-100, 100], [-100, 100])\n",
    "    plt.show()\n",
    "\n",
    "\n",
    "def plot_metrics(metric_name, title, ylim=5):\n",
    "    plt.title(title)\n",
    "    plt.ylim(0, ylim)\n",
    "    plt.plot(history.history[metric_name], color='blue', label=metric_name)\n",
    "    plt.plot(history.history['val_' + metric_name], color='green', label='val_' + metric_name)\n",
    "    plt.show()"
   ]
  },
  {
   "cell_type": "code",
   "execution_count": 18,
   "metadata": {},
   "outputs": [
    {
     "name": "stdout",
     "output_type": "stream",
     "text": [
      "4/4 [==============================] - 0s 2ms/step\n"
     ]
    },
    {
     "data": {
      "image/png": "[encoded data removed]",
      "text/plain": [
       "<Figure size 432x288 with 1 Axes>"
      ]
     },
     "metadata": {
      "needs_background": "light"
     },
     "output_type": "display_data"
    },
    {
     "data": {
      "image/png": "[encoded data removed]",
      "text/plain": [
       "<Figure size 432x288 with 1 Axes>"
      ]
     },
     "metadata": {
      "needs_background": "light"
     },
     "output_type": "display_data"
    }
   ],
   "source": [
    "# Run predict\n",
    "Y_pred = model.predict(norm_test_X)\n",
    "price_pred = Y_pred[0]\n",
    "ptratio_pred = Y_pred[1]\n",
    "\n",
    "plot_diff(test_Y[0], Y_pred[0], title='PRICE')\n",
    "plot_diff(test_Y[1], Y_pred[1], title='PTRATIO')"
   ]
  },
  {
   "cell_type": "code",
   "execution_count": null,
   "metadata": {},
   "outputs": [],
   "source": []
  }
 ],
 "metadata": {
  "kernelspec": {
   "display_name": "Python 3",
   "language": "python",
   "name": "python3"
  },
  "language_info": {
   "codemirror_mode": {
    "name": "ipython",
    "version": 3
   },
   "file_extension": ".py",
   "mimetype": "text/x-python",
   "name": "python",
   "nbconvert_exporter": "python",
   "pygments_lexer": "ipython3",
   "version": "3.8.5"
  }
 },
 "nbformat": 4,
 "nbformat_minor": 4
}
