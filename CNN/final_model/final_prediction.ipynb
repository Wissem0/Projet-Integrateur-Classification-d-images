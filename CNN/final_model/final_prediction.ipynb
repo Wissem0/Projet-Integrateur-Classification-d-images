{
 "cells": [
  {
   "cell_type": "code",
   "execution_count": 1,
   "metadata": {},
   "outputs": [],
   "source": [
    "#Imports\n",
    "import tensorflow as tf\n",
    "import tensorflow.keras as keras\n",
    "from tensorflow.keras.applications import ResNet50\n",
    "from tensorflow.keras.models import Sequential, Model\n",
    "from tensorflow.keras.layers import Activation, Dense\n",
    "\n",
    "import matplotlib.pyplot as plt\n",
    "import pandas as pd\n",
    "import numpy as np\n",
    "import glob"
   ]
  },
  {
   "cell_type": "code",
   "execution_count": 2,
   "metadata": {},
   "outputs": [],
   "source": [
    "#Paths & model\n",
    "main_folder = \"C:/Users/Rostom/Desktop/Misc/Git Projects/Projet-Integrateur-Classification-d-images/CNN_model_train/archive/\"\n",
    "IMGS_ATTR_PATH = main_folder+'list_attr_celeba.csv'\n",
    "IMGS_PATH = main_folder+'img_align_celeba/img_align_celeba'\n",
    "FACE_WEIGHT_VGG16 = './vgg16.h5'\n",
    "MODEL_20_EPOCHS = './model_20_epochs.h5'\n"
   ]
  },
  {
   "cell_type": "code",
   "execution_count": 3,
   "metadata": {},
   "outputs": [],
   "source": [
    "#Function\n",
    "def display_image(image,result,features):\n",
    "    s=\"\"\n",
    "    for i, label in enumerate(features.columns):\n",
    "        pred = result[0][i]\n",
    "        s += f\"{label}: predicted {1 if pred > 0.4 else 0} ({format(pred, '.4f')})\"\n",
    "        s +=\"\\n\"\n",
    "    plt.imshow(image)\n",
    "    plt.title(s)\n",
    "    plt.figure()\n",
    "    return s\n",
    "\n",
    "def load_model(loss, optimizer='adam', metrics=['accuracy']):\n",
    "    resnet_features = ResNet50(include_top=False, input_shape=(112, 112, 3), pooling='avg')\n",
    "    for layer in resnet_features.layers:\n",
    "        layer.trainable = False\n",
    "    model = Sequential([resnet_features,Dense(len(attr2idx)),Activation('sigmoid') ])\n",
    "    model.compile(optimizer=optimizer, loss=loss, metrics=metrics)  \n",
    "    model = keras.models.load_model(glob.glob('./model_20_epochs.h5')[0])\n",
    "    return model\n",
    "\n",
    "def get_attr_names(dataframe):\n",
    "    attr_names = []\n",
    "    attr_names = list(dataframe.columns)\n",
    "    # removing images_id column\n",
    "    del attr_names[0]\n",
    "    return attr_names"
   ]
  },
  {
   "cell_type": "code",
   "execution_count": 4,
   "metadata": {},
   "outputs": [],
   "source": [
    "#Variables\n",
    "attr_df = pd.read_csv(IMGS_ATTR_PATH)\n",
    "attr_names = get_attr_names(attr_df)\n",
    "attr2idx = {v:i for i, v in enumerate(attr_names)}\n",
    "attr_df = pd.read_csv(IMGS_ATTR_PATH)"
   ]
  },
  {
   "cell_type": "code",
   "execution_count": 5,
   "metadata": {},
   "outputs": [
    {
     "ename": "NameError",
     "evalue": "name 'glob' is not defined",
     "output_type": "error",
     "traceback": [
      "\u001b[1;31m---------------------------------------------------------------------------\u001b[0m",
      "\u001b[1;31mNameError\u001b[0m                                 Traceback (most recent call last)",
      "\u001b[1;32m~\\AppData\\Local\\Temp\\ipykernel_22908\\3674713421.py\u001b[0m in \u001b[0;36m<module>\u001b[1;34m\u001b[0m\n\u001b[0;32m      3\u001b[0m \u001b[0mbc_loss\u001b[0m \u001b[1;33m=\u001b[0m \u001b[1;34m'binary_crossentropy'\u001b[0m\u001b[1;33m\u001b[0m\u001b[1;33m\u001b[0m\u001b[0m\n\u001b[0;32m      4\u001b[0m \u001b[0mmetrics\u001b[0m \u001b[1;33m=\u001b[0m \u001b[1;33m[\u001b[0m\u001b[1;34m'binary_accuracy'\u001b[0m\u001b[1;33m]\u001b[0m\u001b[1;33m\u001b[0m\u001b[1;33m\u001b[0m\u001b[0m\n\u001b[1;32m----> 5\u001b[1;33m \u001b[0mmodel\u001b[0m \u001b[1;33m=\u001b[0m \u001b[0mload_model\u001b[0m\u001b[1;33m(\u001b[0m\u001b[0mbc_loss\u001b[0m\u001b[1;33m,\u001b[0m \u001b[0moptimizer\u001b[0m\u001b[1;33m,\u001b[0m \u001b[0mmetrics\u001b[0m\u001b[1;33m)\u001b[0m\u001b[1;33m\u001b[0m\u001b[1;33m\u001b[0m\u001b[0m\n\u001b[0m",
      "\u001b[1;32m~\\AppData\\Local\\Temp\\ipykernel_22908\\1854252448.py\u001b[0m in \u001b[0;36mload_model\u001b[1;34m(loss, optimizer, metrics)\u001b[0m\n\u001b[0;32m     17\u001b[0m     \u001b[0mmodel\u001b[0m \u001b[1;33m=\u001b[0m \u001b[0mSequential\u001b[0m\u001b[1;33m(\u001b[0m\u001b[1;33m[\u001b[0m\u001b[0mresnet_features\u001b[0m\u001b[1;33m,\u001b[0m\u001b[0mDense\u001b[0m\u001b[1;33m(\u001b[0m\u001b[0mlen\u001b[0m\u001b[1;33m(\u001b[0m\u001b[0mattr2idx\u001b[0m\u001b[1;33m)\u001b[0m\u001b[1;33m)\u001b[0m\u001b[1;33m,\u001b[0m\u001b[0mActivation\u001b[0m\u001b[1;33m(\u001b[0m\u001b[1;34m'sigmoid'\u001b[0m\u001b[1;33m)\u001b[0m \u001b[1;33m]\u001b[0m\u001b[1;33m)\u001b[0m\u001b[1;33m\u001b[0m\u001b[1;33m\u001b[0m\u001b[0m\n\u001b[0;32m     18\u001b[0m     \u001b[0mmodel\u001b[0m\u001b[1;33m.\u001b[0m\u001b[0mcompile\u001b[0m\u001b[1;33m(\u001b[0m\u001b[0moptimizer\u001b[0m\u001b[1;33m=\u001b[0m\u001b[0moptimizer\u001b[0m\u001b[1;33m,\u001b[0m \u001b[0mloss\u001b[0m\u001b[1;33m=\u001b[0m\u001b[0mloss\u001b[0m\u001b[1;33m,\u001b[0m \u001b[0mmetrics\u001b[0m\u001b[1;33m=\u001b[0m\u001b[0mmetrics\u001b[0m\u001b[1;33m)\u001b[0m\u001b[1;33m\u001b[0m\u001b[1;33m\u001b[0m\u001b[0m\n\u001b[1;32m---> 19\u001b[1;33m     \u001b[0mmodel\u001b[0m \u001b[1;33m=\u001b[0m \u001b[0mkeras\u001b[0m\u001b[1;33m.\u001b[0m\u001b[0mmodels\u001b[0m\u001b[1;33m.\u001b[0m\u001b[0mload_model\u001b[0m\u001b[1;33m(\u001b[0m\u001b[0mglob\u001b[0m\u001b[1;33m.\u001b[0m\u001b[0mglob\u001b[0m\u001b[1;33m(\u001b[0m\u001b[1;34m'./model_20_epochs.h5'\u001b[0m\u001b[1;33m)\u001b[0m\u001b[1;33m[\u001b[0m\u001b[1;36m0\u001b[0m\u001b[1;33m]\u001b[0m\u001b[1;33m)\u001b[0m\u001b[1;33m\u001b[0m\u001b[1;33m\u001b[0m\u001b[0m\n\u001b[0m\u001b[0;32m     20\u001b[0m     \u001b[1;32mreturn\u001b[0m \u001b[0mmodel\u001b[0m\u001b[1;33m\u001b[0m\u001b[1;33m\u001b[0m\u001b[0m\n\u001b[0;32m     21\u001b[0m \u001b[1;33m\u001b[0m\u001b[0m\n",
      "\u001b[1;31mNameError\u001b[0m: name 'glob' is not defined"
     ]
    }
   ],
   "source": [
    "#Creating model\n",
    "optimizer = 'adam'\n",
    "bc_loss = 'binary_crossentropy'\n",
    "metrics = ['binary_accuracy']\n",
    "model = load_model(bc_loss, optimizer, metrics)"
   ]
  },
  {
   "cell_type": "code",
   "execution_count": null,
   "metadata": {},
   "outputs": [],
   "source": [
    "#Loading image\n",
    "image = tf.io.read_file('./image_samples/321240135_698995238546479_983226794941031556_n.jpg')\n",
    "image = tf.io.decode_jpeg(contents=image, channels=3)\n",
    "image = tf.cast(image, tf.float32)\n",
    "image = tf.divide(image, 255.)\n",
    "image = tf.image.resize(image, size=(112, 112))\n",
    "# image.shape\n",
    "# plt.imshow(image)"
   ]
  },
  {
   "cell_type": "code",
   "execution_count": null,
   "metadata": {
    "scrolled": true
   },
   "outputs": [],
   "source": [
    "#Prediction\n",
    "new_image = image[None, :, :, :]\n",
    "result = model.predict(new_image)\n",
    "features = attr_df.drop(columns=['image_id'])\n",
    "display_image(new_image[0],result,features)"
   ]
  }
 ],
 "metadata": {
  "kernelspec": {
   "display_name": "Python 3 (ipykernel)",
   "language": "python",
   "name": "python3"
  },
  "language_info": {
   "codemirror_mode": {
    "name": "ipython",
    "version": 3
   },
   "file_extension": ".py",
   "mimetype": "text/x-python",
   "name": "python",
   "nbconvert_exporter": "python",
   "pygments_lexer": "ipython3",
   "version": "3.9.13"
  }
 },
 "nbformat": 4,
 "nbformat_minor": 4
}
